{
  "nbformat": 4,
  "nbformat_minor": 0,
  "metadata": {
    "colab": {
      "provenance": [],
      "authorship_tag": "ABX9TyNGVQbQJgqXHWu2Z1/4FuqM",
      "include_colab_link": true
    },
    "kernelspec": {
      "name": "python3",
      "display_name": "Python 3"
    },
    "language_info": {
      "name": "python"
    }
  },
  "cells": [
    {
      "cell_type": "markdown",
      "metadata": {
        "id": "view-in-github",
        "colab_type": "text"
      },
      "source": [
        "<a href=\"https://colab.research.google.com/github/crepe-japheth/challenge_1/blob/main/Untitled0.ipynb\" target=\"_parent\"><img src=\"https://colab.research.google.com/assets/colab-badge.svg\" alt=\"Open In Colab\"/></a>"
      ]
    },
    {
      "cell_type": "code",
      "execution_count": null,
      "metadata": {
        "id": "aOXJe_6fVUjZ"
      },
      "outputs": [],
      "source": [
        "import random\n",
        "\n",
        "print(\"Enter your hand choice\")\n",
        "your_hand = int(input(\"0=rock, 1=paper, 2=scissors . : \"))\n",
        "computer_hand = random.randint(0,2)\n",
        "\n",
        "if your_hand == 0:\n",
        "  if computer_hand == 0:\n",
        "    print(\"draw\")\n",
        "  elif computer_hand == 1 :\n",
        "    print(\"lose\")\n",
        "  elif computer_hand == 2:\n",
        "    print(\"win\")\n",
        "elif your_hand == 1:\n",
        "  if computer_hand == 0:\n",
        "    print(\"win\")\n",
        "  elif computer_hand == 1:\n",
        "    print('draw')\n",
        "  elif computer_hand == 2:\n",
        "    print(\"lose\")\n",
        "elif your_hand == 2:\n",
        "  if computer_hand == 0:\n",
        "    print(\"lose\")\n",
        "  elif computer_hand == 1:\n",
        "    print(\"win\")\n",
        "  elif computer_hand == 2:\n",
        "    print(\"draw\")"
      ]
    },
    {
      "cell_type": "code",
      "source": [
        "import random\n",
        "\n",
        "print(\"starting 'rock-paper-scissors' \")\n",
        "your_hand = int(input(\"0=rock , 1=scissors, 2=paper : \"))\n",
        "computer_hand = random.randint(0, 2)\n",
        "hand_diff = your_hand - computer_hand\n",
        "\n",
        "if hand_diff == 0:\n",
        "  print(\"draw\")\n",
        "elif hand_diff == -1 or hand_diff == 2:\n",
        "  print(\"win\")\n",
        "else:\n",
        "  print(\"lose\")"
      ],
      "metadata": {
        "colab": {
          "base_uri": "https://localhost:8080/"
        },
        "id": "l9MSVU7na1NY",
        "outputId": "b34c050b-9bc6-4d85-ee91-089af60a5b32"
      },
      "execution_count": 3,
      "outputs": [
        {
          "output_type": "stream",
          "name": "stdout",
          "text": [
            "starting 'rock-paper-scissors' \n",
            "0=rock , 1=scissors, 2=paper : 2\n",
            "lose\n"
          ]
        }
      ]
    },
    {
      "cell_type": "code",
      "source": [
        "import random\n",
        "\n",
        "def start_message():\n",
        "  print(\"starting 'rock-paper-scissors'\")\n",
        "\n",
        "def get_player():\n",
        "  return int(input(\"0=rock, 1=scissors, 2=paper\"))\n",
        "\n",
        "def get_computer():\n",
        "  return random.randint(0,2)\n",
        "\n",
        "def view_result(hand_diff):\n",
        "  if hand_diff == 0:\n",
        "    print(\"draw\")\n",
        "  elif hand_diff == -1 or hand_diff ==  2:\n",
        "    print(\"win\")\n",
        "  else:\n",
        "    print(\"lose\")\n",
        "\n",
        "start_message()\n",
        "\n",
        "your_hand = get_player()\n",
        "computer_hand = get_computer()\n",
        "hand_diff = your_hand - computer_hand\n",
        "\n",
        "start_message()\n",
        "\n",
        "view_result(hand_diff)\n"
      ],
      "metadata": {
        "colab": {
          "base_uri": "https://localhost:8080/"
        },
        "id": "fNXcPl4DfGDK",
        "outputId": "77b98090-7666-4966-ed33-38c98b981598"
      },
      "execution_count": 21,
      "outputs": [
        {
          "output_type": "stream",
          "name": "stdout",
          "text": [
            "starting 'rock-paper-scissors'\n",
            "0=rock, 1=scissors, 2=paper4\n",
            "starting 'rock-paper-scissors'\n",
            "win\n"
          ]
        }
      ]
    },
    {
      "cell_type": "code",
      "source": [
        "# def get_hand(hand_name):\n",
        "#   if hand_name == 0:\n",
        "#     return 'rock'\n",
        "#   elif hand_name == 1:\n",
        "#     return 'scissors'\n",
        "#   elif hand_name == 2:\n",
        "#     return 'paper'\n",
        "\n",
        "# def view_hand(player, computer):\n",
        "#   if player == 0:\n",
        "#     if computer == 0:\n",
        "#       print(\" 'my hand is rock' , 'computer hand is rock' \")\n",
        "#     elif computer == 1:\n",
        "#       print(\" 'my hand is rock' , 'computer hand is scissors' \")\n",
        "#     elif computer == 2:\n",
        "#       print(\" 'my hand is rock' , 'computer hand is paper' \")\n",
        "#   elif player == 1 :\n",
        "#     if computer == 0:\n",
        "#       print(\" 'my hand is scissors' , 'computer hand is rock' \")\n",
        "#     elif computer == 1:\n",
        "#       print(\" 'my hand is scissors' , 'computer hand is scissors' \")\n",
        "#     elif computer == 2:\n",
        "#       print(\" 'my hand is scissors' , 'computer hand is paper' \")\n",
        "#   elif player == 2:\n",
        "#     if computer == 0:\n",
        "#       print(\" 'my hand is paper' , 'computer hand is rock' \")\n",
        "#     elif computer == 1:\n",
        "#       print(\" 'my hand is paper' , 'computer hand is scissors' \")\n",
        "#     elif computer == 2:\n",
        "#       print(\" 'my hand is paper' , 'computer hand is paper' \")\n",
        "\n",
        "#   print(get_hand(1))\n",
        "#   print(view_hand(1,2))\n"
      ],
      "metadata": {
        "id": "kLJnQKIokNGZ"
      },
      "execution_count": 20,
      "outputs": []
    },
    {
      "cell_type": "code",
      "source": [
        "import random\n",
        "\n",
        "hands = ['rock', 'scissors', 'paper']\n",
        "\n",
        "def start_message():\n",
        "  print(\"starting 'rock-paper-scissors\")\n",
        "\n",
        "def get_player():\n",
        "  print(\"input your hand\")\n",
        "  return int(input(\"0.rock, 1.scissors, 2.paper\"))\n",
        "\n",
        "def get_computer():\n",
        "  return random.randint(0,2)\n",
        "\n",
        "def get_hand_name(hand_name):\n",
        "  return hands[hand_name]\n",
        "\n",
        "def view_hand(player, computer):\n",
        "  print(\"My hand is \" + get_hand_name(player))\n",
        "  print(\"Computer hand \" + get_hand_name(computer))\n",
        "\n",
        "def view_result(hand_diff):\n",
        "  if hand_diff == 0:\n",
        "    print(\"draw\")\n",
        "  elif hand_diff == -1 or hand_diff == 2:\n",
        "    print(\"win\")\n",
        "  else:\n",
        "    print(\"Lose\")\n",
        "\n",
        "your_hand = get_player()\n",
        "computer_hand = get_computer()\n",
        "hand_diff = your_hand - computer_hand\n",
        "\n",
        "view_hand(your_hand,computer_hand)\n",
        "view_result(hand_diff)"
      ],
      "metadata": {
        "colab": {
          "base_uri": "https://localhost:8080/"
        },
        "id": "2M8kjxsQooeO",
        "outputId": "5effa875-2b2b-488a-8b13-241408b69819"
      },
      "execution_count": 23,
      "outputs": [
        {
          "output_type": "stream",
          "name": "stdout",
          "text": [
            "input your hand\n",
            "0.rock, 1.scissors, 2.paper1\n",
            "My hand is scissors\n",
            "Computer hand scissors\n",
            "draw\n"
          ]
        }
      ]
    }
  ]
}